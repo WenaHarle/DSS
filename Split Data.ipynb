{
 "cells": [
  {
   "cell_type": "code",
   "execution_count": 1,
   "id": "2f313ae9-3aee-40a8-9714-4e2c01ce96b4",
   "metadata": {},
   "outputs": [
    {
     "name": "stdout",
     "output_type": "stream",
     "text": [
      "Resiko\n",
      "0    419\n",
      "1    310\n",
      "2    301\n",
      "3    264\n",
      "4     53\n",
      "Name: count, dtype: int64\n"
     ]
    }
   ],
   "source": [
    "import pandas as pd\n",
    "\n",
    "# Baca file CSV\n",
    "df = pd.read_csv(\"train.csv\")\n",
    "\n",
    "# Lihat jumlah data per kategori\n",
    "print(df[\"Resiko\"].value_counts())\n"
   ]
  },
  {
   "cell_type": "code",
   "execution_count": 2,
   "id": "aa2042cb-826f-4d53-8dbe-1614bfc3f8ca",
   "metadata": {},
   "outputs": [
    {
     "name": "stdout",
     "output_type": "stream",
     "text": [
      "Data berhasil dibagi dan disimpan:\n",
      "Train: 1347 data\n",
      "Validation: 289 data\n",
      "Test: 289 data\n"
     ]
    }
   ],
   "source": [
    "import pandas as pd\n",
    "from sklearn.model_selection import train_test_split\n",
    "\n",
    "# Baca file CSV\n",
    "df = pd.read_csv(\"DataClean.csv\")  # Ubah jika path-nya berbeda\n",
    "\n",
    "# Pastikan kolom kategori tersedia\n",
    "label_col = \"Kategori\"  # Ganti dengan nama kolom kategorimu\n",
    "\n",
    "# Split train (70%) dan temp (30%) dengan stratifikasi\n",
    "train_df, temp_df = train_test_split(df, test_size=0.3, stratify=df[label_col], random_state=42)\n",
    "\n",
    "# Split temp menjadi val (15%) dan test (15%) secara stratified juga\n",
    "val_df, test_df = train_test_split(temp_df, test_size=0.5, stratify=temp_df[label_col], random_state=42)\n",
    "\n",
    "# Simpan hasilnya\n",
    "train_df.to_csv(\"train.csv\", index=False)\n",
    "val_df.to_csv(\"val.csv\", index=False)\n",
    "test_df.to_csv(\"test.csv\", index=False)\n",
    "\n",
    "print(\"Data berhasil dibagi dan disimpan:\")\n",
    "print(f\"Train: {len(train_df)} data\")\n",
    "print(f\"Validation: {len(val_df)} data\")\n",
    "print(f\"Test: {len(test_df)} data\")"
   ]
  },
  {
   "cell_type": "code",
   "execution_count": null,
   "id": "237ee7b2-65d8-4be4-a256-b6592417d27a",
   "metadata": {},
   "outputs": [],
   "source": []
  }
 ],
 "metadata": {
  "kernelspec": {
   "display_name": "Python 3 (ipykernel)",
   "language": "python",
   "name": "python3"
  },
  "language_info": {
   "codemirror_mode": {
    "name": "ipython",
    "version": 3
   },
   "file_extension": ".py",
   "mimetype": "text/x-python",
   "name": "python",
   "nbconvert_exporter": "python",
   "pygments_lexer": "ipython3",
   "version": "3.8.17"
  }
 },
 "nbformat": 4,
 "nbformat_minor": 5
}
